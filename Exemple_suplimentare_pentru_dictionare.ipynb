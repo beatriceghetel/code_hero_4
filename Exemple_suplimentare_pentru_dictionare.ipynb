{
  "nbformat": 4,
  "nbformat_minor": 0,
  "metadata": {
    "colab": {
      "provenance": [],
      "authorship_tag": "ABX9TyPygkUS8AaMr7STq7u8tknn",
      "include_colab_link": true
    },
    "kernelspec": {
      "name": "python3",
      "display_name": "Python 3"
    },
    "language_info": {
      "name": "python"
    }
  },
  "cells": [
    {
      "cell_type": "markdown",
      "metadata": {
        "id": "view-in-github",
        "colab_type": "text"
      },
      "source": [
        "<a href=\"https://colab.research.google.com/github/beatriceghetel/code_hero_4/blob/main/Exemple_suplimentare_pentru_dictionare.ipynb\" target=\"_parent\"><img src=\"https://colab.research.google.com/assets/colab-badge.svg\" alt=\"Open In Colab\"/></a>"
      ]
    },
    {
      "cell_type": "markdown",
      "source": [
        "Sa luam intai un exemplu simplu, poate vrem sa \"traducem\" sau sa transformam numerele de baza romane in numere arabe. Putem folosi un dictionar pentru asta."
      ],
      "metadata": {
        "id": "vUHRHPwM2vqr"
      }
    },
    {
      "cell_type": "code",
      "execution_count": null,
      "metadata": {
        "colab": {
          "base_uri": "https://localhost:8080/"
        },
        "id": "QXWLFrxbxMUg",
        "outputId": "3ce00efb-1beb-4298-a8b4-3fb0e010d759"
      },
      "outputs": [
        {
          "output_type": "stream",
          "name": "stdout",
          "text": [
            "Al doilea numar roman 'II' cu cifre arabe se scrie 2\n"
          ]
        }
      ],
      "source": [
        "# cheie str (exemplu: 'I'), valoare int (exemplu: 1)\n",
        "traducere_roman_arab = {'I':1,\n",
        "                        'II':2,\n",
        "                        'III':3,\n",
        "                        'IV':4,\n",
        "                        'V':5}\n",
        "\n",
        "print(f\"Al doilea numar roman 'II' cu cifre arabe se scrie {traducere_roman_arab['II']}\")"
      ]
    },
    {
      "cell_type": "markdown",
      "source": [
        "Ne mai putem gandi la o mapare a capitalelor de judet."
      ],
      "metadata": {
        "id": "I-X2O3mN6Isa"
      }
    },
    {
      "cell_type": "code",
      "source": [
        "# cheie si valoare str\n",
        "capitale_judete = {'IASI': 'Iasi',\n",
        "                   'OLT': 'Slatina',\n",
        "                   'ALBA': 'Alba Iulia'}\n",
        "\n",
        "print(f\"Capitala judetului OLT este {capitale_judete['OLT']}\")"
      ],
      "metadata": {
        "colab": {
          "base_uri": "https://localhost:8080/"
        },
        "id": "eRcAAVJj6JVL",
        "outputId": "09e45056-56e9-4abf-8473-2c1be090261b"
      },
      "execution_count": null,
      "outputs": [
        {
          "output_type": "stream",
          "name": "stdout",
          "text": [
            "Capitala judetului OLT este Slatina\n"
          ]
        }
      ]
    },
    {
      "cell_type": "markdown",
      "source": [
        "Dar putem stoca si elemente mai complexe de atat (orice tip de date prezentat poate fi cheie sau valoare pentru un dictionar). Ne putem gandi la categorii si subcategorii de produse de pe un site de cumparaturi."
      ],
      "metadata": {
        "id": "ORBfcvv4ck2C"
      }
    },
    {
      "cell_type": "code",
      "source": [
        "# cheie str (categoria principala de produse) valoare lista de str (lista de subcategorii)\n",
        "categorii_produse = {'IT': ['Smartphone', 'Tablete', 'Imprimante', 'Tastaturi'],\n",
        "                     'Sport': ['Tricouri', 'Hanorace', 'Adidasi']}\n",
        "\n",
        "# ca sa accesez un element dintr-un Dictionar, caut dupa cheie, un exemplu de cautare\n",
        "# pe dictionarul anterior pentru subcategoriile din IT va returna o lista de subcategorii\n",
        "print(f\"Subcategoriile de produse din categoria principala IT sunt {categorii_produse['IT']}\")\n",
        "\n",
        "# daca vreau sa vad o singura subcategorie, din categoria IT adaug si indexul (pozitia)\n",
        "# pentru acea subcategorie (pentru primul element, folosim indexul 0)\n",
        "print(f\"O subcategorie de produse din categoria principala IT este {categorii_produse['IT'][0]}\")"
      ],
      "metadata": {
        "colab": {
          "base_uri": "https://localhost:8080/"
        },
        "id": "4URMtYGJclRC",
        "outputId": "9ce8664a-1528-4cbb-c14e-35e8bb80990d"
      },
      "execution_count": null,
      "outputs": [
        {
          "output_type": "stream",
          "name": "stdout",
          "text": [
            "Subcategoriile de produse din categoria principala IT sunt ['Smartphone', 'Tablete', 'Imprimante', 'Tastaturi']\n",
            "O subcategorie de produse din categoria principala IT este Smartphone\n"
          ]
        }
      ]
    }
  ]
}