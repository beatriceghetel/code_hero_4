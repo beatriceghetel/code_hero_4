{
  "nbformat": 4,
  "nbformat_minor": 0,
  "metadata": {
    "colab": {
      "provenance": [],
      "authorship_tag": "ABX9TyNQWWe8uw41pwxWY9qM1WEo",
      "include_colab_link": true
    },
    "kernelspec": {
      "name": "python3",
      "display_name": "Python 3"
    },
    "language_info": {
      "name": "python"
    }
  },
  "cells": [
    {
      "cell_type": "markdown",
      "metadata": {
        "id": "view-in-github",
        "colab_type": "text"
      },
      "source": [
        "<a href=\"https://colab.research.google.com/github/beatriceghetel/code_hero_4/blob/main/Tema_1_exemplu.ipynb\" target=\"_parent\"><img src=\"https://colab.research.google.com/assets/colab-badge.svg\" alt=\"Open In Colab\"/></a>"
      ]
    },
    {
      "cell_type": "markdown",
      "source": [
        "## Exercitiul 1\n",
        "\n",
        "Cele 2 tipuri simple de variabile pe care m-am gandit sa le creez sunt `str` pentru a afisa numele meu si `float` pentru a afisa inaltimea mea in metri."
      ],
      "metadata": {
        "id": "meH6AH0ekh6s"
      }
    },
    {
      "cell_type": "code",
      "execution_count": null,
      "metadata": {
        "colab": {
          "base_uri": "https://localhost:8080/"
        },
        "id": "u1lO7q6DkeZ1",
        "outputId": "6de77a70-1c47-4500-e547-9441f7661f9f"
      },
      "outputs": [
        {
          "output_type": "stream",
          "name": "stdout",
          "text": [
            "Numele meu complet este Beatrice Ghetel si am o inaltime de 1.55 metri\n"
          ]
        }
      ],
      "source": [
        "nume_prenume = 'Beatrice Ghetel'\n",
        "inaltime = 1.55\n",
        "\n",
        "print(f\"Numele meu complet este {nume_prenume} si am o inaltime de {inaltime} metri\")"
      ]
    },
    {
      "cell_type": "markdown",
      "source": [
        "## Exercitiul 2\n",
        "\n",
        "Tipul complex de date pe care l-am ales este o lista de stringuri, pentru a reprezenta hobbyurile mele."
      ],
      "metadata": {
        "id": "JaR6IoKNl7PA"
      }
    },
    {
      "cell_type": "code",
      "source": [
        "hobbyuri = list()\n",
        "hobbyuri.append(\"cititul\")\n",
        "hobbyuri.append(\"fotografia\")\n",
        "hobbyuri.append(\"hikingul\")\n",
        "\n",
        "print(f\"Hobbyurile mele sunt {hobbyuri}, dar preferatul meu este {hobbyuri[1]}\")"
      ],
      "metadata": {
        "colab": {
          "base_uri": "https://localhost:8080/"
        },
        "id": "nkgPgTPRmwzg",
        "outputId": "cf7056aa-003d-44c7-9b70-d0e6f9a7ed14"
      },
      "execution_count": null,
      "outputs": [
        {
          "output_type": "stream",
          "name": "stdout",
          "text": [
            "Hobbyurile mele sunt ['cititul', 'fotografia', 'hikingul'], dar preferatul meu este fotografia\n"
          ]
        }
      ]
    },
    {
      "cell_type": "markdown",
      "source": [
        "## Exercitiul 3\n",
        "\n",
        "Situatie de \"exceptie\" pe care o pot intampina este sa incerc sa accesez un element de pe o pozitie care inca nu a fost creata. Lista precedenta are 3 elemente, fiind numerotate de la 0 la 2 (0-cititul, 1-fotografia, 2-hikingul), daca eu incerc sa accesez un element de pe pozitia 4, voi primi o eroare."
      ],
      "metadata": {
        "id": "dZvgrononerX"
      }
    },
    {
      "cell_type": "code",
      "source": [
        "print(hobbyuri[4])"
      ],
      "metadata": {
        "colab": {
          "base_uri": "https://localhost:8080/",
          "height": 165
        },
        "id": "L5WaZbq3n3Sz",
        "outputId": "4e40081d-fd9e-40aa-e28f-951bfaf32bc6"
      },
      "execution_count": null,
      "outputs": [
        {
          "output_type": "error",
          "ename": "IndexError",
          "evalue": "ignored",
          "traceback": [
            "\u001b[0;31m---------------------------------------------------------------------------\u001b[0m",
            "\u001b[0;31mIndexError\u001b[0m                                Traceback (most recent call last)",
            "\u001b[0;32m<ipython-input-5-994732cdcb54>\u001b[0m in \u001b[0;36m<module>\u001b[0;34m\u001b[0m\n\u001b[0;32m----> 1\u001b[0;31m \u001b[0mprint\u001b[0m\u001b[0;34m(\u001b[0m\u001b[0mhobbyuri\u001b[0m\u001b[0;34m[\u001b[0m\u001b[0;36m4\u001b[0m\u001b[0;34m]\u001b[0m\u001b[0;34m)\u001b[0m\u001b[0;34m\u001b[0m\u001b[0;34m\u001b[0m\u001b[0m\n\u001b[0m",
            "\u001b[0;31mIndexError\u001b[0m: list index out of range"
          ]
        }
      ]
    }
  ]
}