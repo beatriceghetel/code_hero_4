{
  "nbformat": 4,
  "nbformat_minor": 0,
  "metadata": {
    "colab": {
      "provenance": [],
      "authorship_tag": "ABX9TyOXGoYIjKkLTgLfsQlpgzhY",
      "include_colab_link": true
    },
    "kernelspec": {
      "name": "python3",
      "display_name": "Python 3"
    },
    "language_info": {
      "name": "python"
    }
  },
  "cells": [
    {
      "cell_type": "markdown",
      "metadata": {
        "id": "view-in-github",
        "colab_type": "text"
      },
      "source": [
        "<a href=\"https://colab.research.google.com/github/beatriceghetel/code_hero_4/blob/main/Tema_4_Module_%5BRezolvari%5D.ipynb\" target=\"_parent\"><img src=\"https://colab.research.google.com/assets/colab-badge.svg\" alt=\"Open In Colab\"/></a>"
      ]
    },
    {
      "cell_type": "markdown",
      "source": [
        "## Simulare aruncare Zar 🎲🎲 (varianta cu liste)\n",
        "\n",
        "In cadrul laboratorului am simulat aruncarea unui zar folosind functia `randint` din modulul `random`. Dar am vazut ca putem defini noi optiunile intr-o lista (cand am implementat jocul cu piatra hartie foarfeca) folosind functia `choice`.\n",
        "\n",
        "**Haideti sa facem acelasi lucru si pentru aruncarea unui zar: sa definim o lista cu toate fetele unui zar si sa simulam aruncarea lui (alegerea unui fete).**\n",
        "\n",
        "*Doar pentru cultura voastra: Putem construi astfel o aruncare \"masluita\". In sensul ca putem controla ce fete avem ca si optiune (in mod normal un zar are 1 2 3 4 5 6 ca si valori, dar noi putem face un zar doar cu fete norocoase, 1 2 4 6). Asta si inseamna termenul de \"zar masluit\", adica un zar imperfect care e construit special sa ajute la \"trisat\"* 😀"
      ],
      "metadata": {
        "id": "ad1xvsQcqccR"
      }
    },
    {
      "cell_type": "code",
      "execution_count": null,
      "metadata": {
        "id": "3Yg67dEk23ab"
      },
      "outputs": [],
      "source": [
        "# fiind primul exericitiu o sa va reamintesc eu cum sa \"importati\" modulele\n",
        "from random import choice\n",
        "\n",
        "# va las sa va declarati singuri lista (poate fi si tuplu daca vreti)\n",
        "\n",
        "# si sa apelati functia choice - nu uitati sa afisati zarul care a iesit"
      ]
    },
    {
      "cell_type": "markdown",
      "source": [
        "## Mija 10... 20... 30... 💯 Cine nu-i gata il iau cu lopata!\n",
        "\n",
        "Am vazut la laborator cum putem folosi din modulul `random` functia `choice` pentru a alege"
      ],
      "metadata": {
        "id": "KfFBx3nxqJ10"
      }
    },
    {
      "cell_type": "code",
      "source": [],
      "metadata": {
        "id": "YH0aRwzzrlLE"
      },
      "execution_count": null,
      "outputs": []
    },
    {
      "cell_type": "markdown",
      "source": [
        "## Joc labirint varianta simplificata 🐲\n",
        "Ne-am jucat la temele trecute cu un joc labirint, haideti sa il evoluam in functie de noile cunostinte dobandite. Punctele noi de atins:\n",
        "\n",
        "* La fiecare runda noua, eroul intalneste un monstru ales aleator dintr-o lista. La finalul rundei eroul pierde din viata avuta la inceput un numar de puncte aleator ales, cuprins intre 1 si 10.\n",
        "* La finalul fiecarei runde, eroul are sansa de a gasi un obiect recompensa, alegeti aleator aceasta recompensa dintr-o lista.\n",
        "\n",
        "\n",
        "Eu am pregatit pentru voi scheletul de cod din rezolvarea precedenta, propunerea mea este sa modificati codul, in functie de comentariile puse de mine."
      ],
      "metadata": {
        "id": "_JtIlU8l-o-k"
      }
    },
    {
      "cell_type": "code",
      "source": [],
      "metadata": {
        "id": "A4KYol9_HADv"
      },
      "execution_count": null,
      "outputs": []
    },
    {
      "cell_type": "markdown",
      "source": [
        "## Joc labirint varianta complexa 🐲\n",
        "Ne-am jucat la temele trecute cu un joc labirint, haideti sa il evoluam in functie de noile cunostinte dobandite. Punctele noi de atins:\n",
        "\n",
        "* [optional] Folositi libraria `faker` pentru a genera un nume pentru eroul nostru\n",
        "* La fiecare runda noua, eroul intalneste un monstru ales aleator. La finalul rundei eroul pierde din viata avuta la inceput, punctele de atac ale monstrului intalnit. (am pregatit un dictionar cu cheia numele monstrului si valoare punctele de atac)\n",
        "* La finalul fiecarei runde, eroul are sansa de a gasi un obiect recompensa, alegeti aleator aceasta recompensa.\n",
        "\n",
        "\n",
        "Eu am pregatit pentru voi scheletul de cod din rezolvarea precedenta, propunerea mea este sa modificati codul, in functie de comentariile puse de mine.\n",
        "\n",
        "Intai rulati pe rand instalarile pentru cele 2 module pe care le vom folosi."
      ],
      "metadata": {
        "id": "MIEsDbmwGoQm"
      }
    },
    {
      "cell_type": "code",
      "source": [
        "pip install faker"
      ],
      "metadata": {
        "colab": {
          "base_uri": "https://localhost:8080/"
        },
        "id": "X-jetuhpF5tX",
        "outputId": "0fad465b-63d9-47f1-fc2c-e09c7388d153"
      },
      "execution_count": null,
      "outputs": [
        {
          "output_type": "stream",
          "name": "stdout",
          "text": [
            "Looking in indexes: https://pypi.org/simple, https://us-python.pkg.dev/colab-wheels/public/simple/\n",
            "Collecting faker\n",
            "  Downloading Faker-15.3.4-py3-none-any.whl (1.6 MB)\n",
            "\u001b[K     |████████████████████████████████| 1.6 MB 4.8 MB/s \n",
            "\u001b[?25hRequirement already satisfied: python-dateutil>=2.4 in /usr/local/lib/python3.8/dist-packages (from faker) (2.8.2)\n",
            "Requirement already satisfied: six>=1.5 in /usr/local/lib/python3.8/dist-packages (from python-dateutil>=2.4->faker) (1.15.0)\n",
            "Installing collected packages: faker\n",
            "Successfully installed faker-15.3.4\n"
          ]
        }
      ]
    },
    {
      "cell_type": "code",
      "source": [
        "from faker import Faker\n",
        "from random import choice\n",
        "from random import randint\n",
        "\n",
        "fake = Faker()\n",
        "# Utilizati fake pentru a genera automat un nume pentru erou, sau introduceti voi unul direct\n",
        "nume_erou = ...\n",
        "\n",
        "\n",
        "recompense = [\"Coif\", \"Armura\", \"Merinde\", \"Scut\", \"Sabie\", \"Merinde\", \"Merinde\", \"Merinde\", \"Pumnal\", \"Moneda de aur\", \"Talisman protector\", \"Potiune magica\", \"Merinde\", \"Pumnal\", \"Coif\", \"Armura\", \"Merinde\", \"Scut\", \"Coif\", \"Armura\", \"Merinde\", \"Scut\", \"Sabie\", \"Merinde\", \"Merinde\", \"Merinde\", \"Pumnal\", \"Moneda de aur\", \"Talisman protector\", \"Potiune magica\", \"Merinde\", \"Pumnal\", \"Coif\", \"Armura\", \"Merinde\", \"Scut\"]\n",
        "recompense_gasite = list()\n",
        "\n",
        "nume_monstri = ['Golem', 'Ciclop', 'Minotaur', 'Gnom', 'Centaur', 'Varcolac', 'Calaret fara cap', 'Dragon']\n",
        "\n",
        "daune_monstri = {\n",
        "    'Golem' : 5,\n",
        "    'Ciclop': 10,\n",
        "    'Minotaur': 12,\n",
        "    'Gnom': 3,\n",
        "    'Centaur': 13,\n",
        "    'Varcolac': 11,\n",
        "    'Calaret fara cap': 15,\n",
        "    'Dragon': 20\n",
        "}\n",
        "\n",
        "puncte_viata = 100\n",
        "regenerare = 5\n",
        "runde = 0\n",
        "continui_jocul = 'Da'\n",
        "\n",
        "continui_jocul = input(f\"Bine ai venit {nume_erou}, ai curajul sa intri in labirint? Da/Nu\")\n",
        "\n",
        "# sa imi amintiti sa va arat cum putem verifica toate combinatiile de valori DA da Da sau chiar dA mai rapid\n",
        "while (continui_jocul == 'Da' or continui_jocul == 'da' or continui_jocul == 'DA') and puncte_viata > 0:\n",
        "  monstru_intalnit = choice(nume_monstri)\n",
        "  puncte_viata -= daune_monstri[monstru_intalnit]\n",
        "  print(f\"Ai intalnit un {monstru_intalnit}: pierzi {daune_monstri[monstru_intalnit]} puncte de viata! Mai ai {puncte_viata}.\")\n",
        "  puncte_viata += regenerare\n",
        "  print(f\"Ai facut un popas: regenerezi {regenerare} puncte de viata! Mai ai {puncte_viata}.\")\n",
        "  runde += 1\n",
        "  continui_jocul = input(f\"Termini runda {runde}! {nume_erou}, doresti sa continui explorarea prin labirint? (Da/Nu) \")\n",
        "  recompensa_gasita = choice(recompense)\n",
        "  recompense_gasite.append(recompensa_gasita)\n",
        "  print(f\"Felicitari, ai gasit {recompensa_gasita} in labirint!\")\n",
        "  print(\"\\n\")\n",
        "\n",
        "print(f\"Jocul s-a terminat, {nume_erou} avea {puncte_viata} puncte de viata si a rezistat {runde} runde.\")\n",
        "print(f\"{nume_erou} a gasit {recompense_gasite} cat a explorat labirintul.\")"
      ],
      "metadata": {
        "id": "q7ztgW-isxr9",
        "colab": {
          "base_uri": "https://localhost:8080/"
        },
        "outputId": "711b3779-970b-4d7e-8374-21b9414aca25"
      },
      "execution_count": null,
      "outputs": [
        {
          "output_type": "stream",
          "name": "stdout",
          "text": [
            "Bine ai venit Ellipsis, ai curajul sa intri in labirint? Da/Nuda\n",
            "Ai intalnit un Ciclop: pierzi 10 puncte de viata! Mai ai 90.\n",
            "Ai facut un popas: regenerezi 5 puncte de viata! Mai ai 95.\n",
            "Termini runda 1! Ellipsis, doresti sa continui explorarea prin labirint? (Da/Nu) da\n",
            "Felicitari, ai gasit Merinde in labirint!\n",
            "\n",
            "\n",
            "Ai intalnit un Dragon: pierzi 20 puncte de viata! Mai ai 75.\n",
            "Ai facut un popas: regenerezi 5 puncte de viata! Mai ai 80.\n",
            "Termini runda 2! Ellipsis, doresti sa continui explorarea prin labirint? (Da/Nu) da\n",
            "Felicitari, ai gasit Armura in labirint!\n",
            "\n",
            "\n",
            "Ai intalnit un Golem: pierzi 5 puncte de viata! Mai ai 75.\n",
            "Ai facut un popas: regenerezi 5 puncte de viata! Mai ai 80.\n",
            "Termini runda 3! Ellipsis, doresti sa continui explorarea prin labirint? (Da/Nu) da\n",
            "Felicitari, ai gasit Armura in labirint!\n",
            "\n",
            "\n",
            "Ai intalnit un Golem: pierzi 5 puncte de viata! Mai ai 75.\n",
            "Ai facut un popas: regenerezi 5 puncte de viata! Mai ai 80.\n",
            "Termini runda 4! Ellipsis, doresti sa continui explorarea prin labirint? (Da/Nu) da\n",
            "Felicitari, ai gasit Merinde in labirint!\n",
            "\n",
            "\n",
            "Ai intalnit un Calaret fara cap: pierzi 15 puncte de viata! Mai ai 65.\n",
            "Ai facut un popas: regenerezi 5 puncte de viata! Mai ai 70.\n",
            "Termini runda 5! Ellipsis, doresti sa continui explorarea prin labirint? (Da/Nu) nu\n",
            "Felicitari, ai gasit Merinde in labirint!\n",
            "\n",
            "\n",
            "Jocul s-a terminat, Ellipsis avea 70 puncte de viata si a rezistat 5 runde.\n",
            "Ellipsis a gasit ['Merinde', 'Armura', 'Armura', 'Merinde', 'Merinde'] cat a explorat labirintul.\n"
          ]
        }
      ]
    }
  ]
}