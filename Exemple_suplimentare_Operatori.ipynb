{
  "nbformat": 4,
  "nbformat_minor": 0,
  "metadata": {
    "colab": {
      "provenance": [],
      "authorship_tag": "ABX9TyMcm+CyEdoaRS5FqngySwe4",
      "include_colab_link": true
    },
    "kernelspec": {
      "name": "python3",
      "display_name": "Python 3"
    },
    "language_info": {
      "name": "python"
    }
  },
  "cells": [
    {
      "cell_type": "markdown",
      "metadata": {
        "id": "view-in-github",
        "colab_type": "text"
      },
      "source": [
        "<a href=\"https://colab.research.google.com/github/beatriceghetel/code_hero_4/blob/main/Exemple_suplimentare_Operatori.ipynb\" target=\"_parent\"><img src=\"https://colab.research.google.com/assets/colab-badge.svg\" alt=\"Open In Colab\"/></a>"
      ]
    },
    {
      "cell_type": "code",
      "execution_count": null,
      "metadata": {
        "colab": {
          "base_uri": "https://localhost:8080/"
        },
        "id": "JxD_niOb4Sy5",
        "outputId": "d86aeeab-572d-4273-ab87-76373f6dae33"
      },
      "outputs": [
        {
          "output_type": "stream",
          "name": "stdout",
          "text": [
            "inaltimea mea acum este 155\n",
            "inaltimea mea peste 1 an va fi 157\n",
            "inaltimea mea peste 2 an va fi 159\n"
          ]
        }
      ],
      "source": [
        "inaltime = 155\n",
        "\n",
        "print(f\"inaltimea mea acum este {inaltime}\")\n",
        "\n",
        "inaltime = inaltime + 2\n",
        "\n",
        "print(f\"inaltimea mea peste 1 an va fi {inaltime}\")\n",
        "\n",
        "inaltime += 2\n",
        "\n",
        "print(f\"inaltimea mea peste 2 an va fi {inaltime}\")"
      ]
    },
    {
      "cell_type": "markdown",
      "source": [
        "Exemplu Concatenare str"
      ],
      "metadata": {
        "id": "LbkdBAMJZa-u"
      }
    },
    {
      "cell_type": "code",
      "source": [
        "nume_produs_1 = \"mouse\"\n",
        "nume_produs_2 = \"portofel\"\n",
        "\n",
        "mesaj_adaugat_in_cos = \" Felicitari! Ai adaugat acest produs in cos: \"\n",
        "\n",
        "print(mesaj_adaugat_in_cos + nume_produs_1)\n",
        "print(mesaj_adaugat_in_cos + nume_produs_2)"
      ],
      "metadata": {
        "colab": {
          "base_uri": "https://localhost:8080/"
        },
        "id": "hezw9AwTZbSd",
        "outputId": "e3c3a766-580a-4e65-b8b4-10db944d1198"
      },
      "execution_count": null,
      "outputs": [
        {
          "output_type": "stream",
          "name": "stdout",
          "text": [
            " Felicitari! Ai adaugat acest produs in cos: mouse\n",
            " Felicitari! Ai adaugat acest produs in cos: portofel\n"
          ]
        }
      ]
    },
    {
      "cell_type": "markdown",
      "source": [
        "Exemple operatori"
      ],
      "metadata": {
        "id": "zupwLactamVQ"
      }
    },
    {
      "cell_type": "code",
      "source": [
        "8*9"
      ],
      "metadata": {
        "colab": {
          "base_uri": "https://localhost:8080/"
        },
        "id": "VluuB-O2alSw",
        "outputId": "820ad8e8-d5c9-4ce2-f222-b0826a12f1cd"
      },
      "execution_count": null,
      "outputs": [
        {
          "output_type": "execute_result",
          "data": {
            "text/plain": [
              "72"
            ]
          },
          "metadata": {},
          "execution_count": 3
        }
      ]
    },
    {
      "cell_type": "markdown",
      "source": [
        "Exemple si explicatii pentru HEX si DECIMAL"
      ],
      "metadata": {
        "id": "zZyeEIDSdyTN"
      }
    },
    {
      "cell_type": "markdown",
      "source": [
        "Exemple de sortari de stringuri"
      ],
      "metadata": {
        "id": "QjkVe3DcejA0"
      }
    },
    {
      "cell_type": "markdown",
      "source": [
        "Operatori apartenenta"
      ],
      "metadata": {
        "id": "JS6z61s_e3Zf"
      }
    },
    {
      "cell_type": "code",
      "source": [
        "lista_produse = [\"spalator de vase\", \"casti\", \"difuser aromat\"]\n",
        "produse_pe_site = [\"casti\", \"difuser aromat\"]\n",
        "\n",
        "print(f\"Gasesc {lista_produse[0]} pe site?\")\n",
        "print(lista_produse[0] in produse_pe_site)\n",
        "\n",
        "print(f\"Gasesc {lista_produse[1]} pe site?\")\n",
        "print(lista_produse[1] in produse_pe_site)\n",
        "\n",
        "print(f\"Gasesc {lista_produse[2]} pe site?\")\n",
        "print(lista_produse[2] in produse_pe_site)"
      ],
      "metadata": {
        "colab": {
          "base_uri": "https://localhost:8080/"
        },
        "id": "2HLOVD-Ae6Ow",
        "outputId": "f961cfb8-8197-49df-eaa5-f7fa75323001"
      },
      "execution_count": null,
      "outputs": [
        {
          "output_type": "stream",
          "name": "stdout",
          "text": [
            "Gasesc spalator de vase pe site?\n",
            "False\n",
            "Gasesc casti pe site?\n",
            "True\n",
            "Gasesc difuser aromat pe site?\n",
            "True\n"
          ]
        }
      ]
    },
    {
      "cell_type": "markdown",
      "source": [
        "Operatori logici"
      ],
      "metadata": {
        "id": "iZjylBU0glBn"
      }
    },
    {
      "cell_type": "code",
      "source": [
        "varsta_minima = 14\n",
        "bilet_admis = \"VIP\"\n",
        "\n",
        "varsta_mea = 10\n",
        "biletul_meu = \"VIP\"\n",
        "\n",
        "if biletul_meu != bilet_admis or varsta_minima > varsta_mea :\n",
        "  print (\"nu ai voie in aceasta sectiune a festivalului :( \")\n",
        "else:\n",
        "  print(\"ai voie la festival!\")"
      ],
      "metadata": {
        "colab": {
          "base_uri": "https://localhost:8080/"
        },
        "id": "I9kxGZcpgpDp",
        "outputId": "136df9e8-b796-47ba-c0a8-ce5bd548697f"
      },
      "execution_count": null,
      "outputs": [
        {
          "output_type": "stream",
          "name": "stdout",
          "text": [
            "nu ai voie in aceasta sectiune a festivalului :( \n"
          ]
        }
      ]
    }
  ]
}