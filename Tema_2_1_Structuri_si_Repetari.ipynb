{
  "nbformat": 4,
  "nbformat_minor": 0,
  "metadata": {
    "colab": {
      "provenance": [],
      "authorship_tag": "ABX9TyOerDS8+r72b84lln5xNBHS",
      "include_colab_link": true
    },
    "kernelspec": {
      "name": "python3",
      "display_name": "Python 3"
    },
    "language_info": {
      "name": "python"
    }
  },
  "cells": [
    {
      "cell_type": "markdown",
      "metadata": {
        "id": "view-in-github",
        "colab_type": "text"
      },
      "source": [
        "<a href=\"https://colab.research.google.com/github/beatriceghetel/code_hero_4/blob/main/Tema_2_1_Structuri_si_Repetari.ipynb\" target=\"_parent\"><img src=\"https://colab.research.google.com/assets/colab-badge.svg\" alt=\"Open In Colab\"/></a>"
      ]
    },
    {
      "cell_type": "markdown",
      "source": [
        "---\n",
        "## Exercitii de incalzire 🏋\n",
        "\n",
        "Pentru inceput, doua enunturi usoare si directe (povesti lungi, care sa va reaminteasca parcurgerile de liste si dictionare folosind repetari / bucle ➰)\n",
        "\n",
        "### Incalzire 1 - Filme preferate 🎥\n",
        "Creati o lista cu filmele voastre favorite si afisati intreaga lista. Parcurgeti si afisati aceste filme.\n",
        "\n",
        "Dupa parcurgerea tuturor filmelor, afisati primul si ultimul film din lista voastra.\n",
        "\n"
      ],
      "metadata": {
        "id": "y5DScuGpoaPC"
      }
    },
    {
      "cell_type": "code",
      "source": [],
      "metadata": {
        "id": "f6_M3M9PoZuz"
      },
      "execution_count": null,
      "outputs": []
    },
    {
      "cell_type": "markdown",
      "source": [
        "### Incalzire 2 - Wishlist (lista de dorinte) 🛒\n",
        "Fiecare dintre noi avem cel putin 3-4 obiecte pe care ni le dorim foarte mult (fie ca vorbim de haine, accesorii, electronice, jocuri etc.). Enumerati cateva dintre obiectele pe care voi vi le doriti foarte mult (minim 4), impreuna cu preturile acestora. Efectuati 2 parcurgeri diferite, prima data afisati obiectul si pretul acestuia. Pentru cealalta parcurgere calculati suma necesara ca voi sa va cumparati toate aceste obiecte.\n",
        "\n",
        "Optional, puteti calcula suma necesara doar pentru primele 3 obiecte din lista voastra.\n",
        "\n",
        "P.S.: l-am numit wishlist pentru ca as ase cheama de obicei pe magazinele online astfel de liste."
      ],
      "metadata": {
        "id": "eAbPdN_IaOE-"
      }
    },
    {
      "cell_type": "code",
      "source": [],
      "metadata": {
        "id": "bk5ZT_9qaOeX"
      },
      "execution_count": null,
      "outputs": []
    },
    {
      "cell_type": "markdown",
      "source": [
        "---\n",
        "## Exercitiul 1 - Discount produs 🤑\n",
        "\n",
        "\n",
        "Am calculat la tema 2.0 o singura reducere pentru un produs. Uneori insa vanzatorii vor sa scape foarte repede de marfa lor si incep sa faca reduceri consecutive, in fiecare zi aplicand un nou discount.\n",
        "\n",
        "Pentru pretul unui produs ales de voi, **efectuati acelasi procent de reducere succesiv pana cand valoarea noua a produsului este mai mica decat 50% din valoarea initiala**, si **afisati fiecare iteratie**. Nu uitati sa aplicati la fiecare iteratie reducerea pentru NOUL pret (nu cel initial). Afisati la final si cate zile de reducere au fost necesare pentru a ajunge la o oferta atat de buna.\n",
        "\n",
        "P.S.: Pentru un afisaj mai dragut, **rotunjiti rezultatele la 2 zecimale** *(inca nu am vazut in magazine preturi cu mai multe zecimale, din fericire)*\n",
        "\n",
        "De **exemplu**, , prin aplicari succesive de reduceri de 12% din pretul unor Casti Wireless care costa initial 279 lei, vom obtine urmatoarele mesaje:\n",
        "\n",
        "```\n",
        "In ziua 1 pretul produsului a ajuns la 245.52.\n",
        "Reducerea a fost de 33.48 lei.\n",
        "\n",
        "In ziua 2 pretul produsului a ajuns la 216.06.\n",
        "Reducerea a fost de 29.46 lei.\n",
        "\n",
        "In ziua 3 pretul produsului a ajuns la 190.13.\n",
        "Reducerea a fost de 25.93 lei.\n",
        "\n",
        "In ziua 4 pretul produsului a ajuns la 167.32.\n",
        "Reducerea a fost de 22.82 lei.\n",
        "\n",
        "In ziua 5 pretul produsului a ajuns la 147.24.\n",
        "Reducerea a fost de 20.08 lei.\n",
        "\n",
        "In ziua 6 pretul produsului a ajuns la 129.57.\n",
        "Reducerea a fost de 17.67 lei.\n",
        "\n",
        "In total au fost necesare 6 zile de reduceri pentru ca pretul sa scada sub 50% din valoarea initiala\n",
        "\n",
        "```\n",
        "\n"
      ],
      "metadata": {
        "id": "LUOmMx1pbFNJ"
      }
    },
    {
      "cell_type": "code",
      "execution_count": null,
      "metadata": {
        "id": "hvvkbOJ9a6Dt"
      },
      "outputs": [],
      "source": []
    },
    {
      "cell_type": "markdown",
      "source": [
        "---\n",
        "## Exercitiul 2 - Joc labirint 🐲\n",
        "\n",
        "Data trecuta, am simulat o serie de mesaje pentru un joc labirint. Acum am vrea sa cream evenimente pana cand eroul nostru ramane fara puncte de viata. Regulile jocului sunt urmatoarele:\n",
        "\n",
        "* Jucatorul nostru (ii dati voi un nume - dar incercati de data aceasta sa il cititi de la tastatura) **incepe jocul cu 100 puncte de viata**\n",
        "* La fiecare pas, jucatorul intalneste o creatura, se lupta cu ea, si pierde puncte de viata. **Prima data cand intalneste monstrul, pierde 10 puncte de viata**, apoi **la fiecare noua intalnire pierde cu cate 1 punct in plus** fata de cat a pierdut runda trecuta, pentru ca monstrii sunt mai puternici pe masura ce inainteaza.\n",
        "* Dupa fiecare intalnire cu monstrul, eroul ia o pauza sa se regenereze, sa-si bandajeze ranile si recupereaza **5 puncte de viata**.\n",
        "* **Jocul se termina** indiferent de optiunile de a continua (daca sunt implementate), **daca viata eroului este 0 sau mai putin.**\n",
        "\n",
        "Afisati la final si cate runde a supravietuit eroul.\n",
        "\n",
        "* [OPTIONAL]\n",
        "  * Dupa fiecare runda, intrebati jucatorul daca doreste sa continue sa avanseze prin labirint si opriti jocul. (puteti sa va ganditi la conditii, variabile Boolean si la faptul ca intr-un while puteti evalua mai multe expresii)\n",
        "  * Daca runda este un numar par, eroul poate gasi obiecte in labirint. Creati o lista inventar si adaugati obiecte din lista urmatoare de recompense ```[\"Coif\", \"Armura\", \"Merinde\", \"Scut\", \"Sabie\", \"Merinde\", \"Merinde\", \"Merinde\", \"Pumnal\", \"Moneda de aur\", \"Talisman protector\", \"Potiune magica\", \"Merinde\", \"Pumnal\", \"Coif\", \"Armura\", \"Merinde\", \"Scut\", \"Coif\", \"Armura\", \"Merinde\", \"Scut\", \"Sabie\", \"Merinde\", \"Merinde\", \"Merinde\", \"Pumnal\", \"Moneda de aur\", \"Talisman protector\", \"Potiune magica\", \"Merinde\", \"Pumnal\", \"Coif\", \"Armura\", \"Merinde\", \"Scut\"]``` - afisati la final lista de obiecte gasite de catre erou (hint: folositi o variabila separata pe care o sa incrementati pentru a accesa lista de recompense)\n",
        "\n",
        "\n",
        "\n",
        "Exemplu de mesaje afisate:\n",
        "\n",
        "\n",
        "\n",
        "```\n",
        "Bine-ai venit in labirint, care este numele tau, aventurierule?\n",
        "Beatrice\n",
        "Ai intalnit un monstru: pierzi 10 puncte de viata! Mai ai 90.\n",
        "Ai facut un popas: regenerezi 5 puncte de viata! Mai ai 95.\n",
        "Termini runda 1! Beatrice, doresti sa continui explorarea prin labirint? (Da/Nu) Da\n",
        "\n",
        "\n",
        "Ai intalnit un monstru: pierzi 11 puncte de viata! Mai ai 84.\n",
        "Ai facut un popas: regenerezi 5 puncte de viata! Mai ai 89.\n",
        "Termini runda 2! Beatrice, doresti sa continui explorarea prin labirint? (Da/Nu) Da\n",
        "Felicitari, ai gasit Coif in labirint!\n",
        "\n",
        "\n",
        "Ai intalnit un monstru: pierzi 13 puncte de viata! Mai ai 76.\n",
        "Ai facut un popas: regenerezi 5 puncte de viata! Mai ai 81.\n",
        "Termini runda 3! Beatrice, doresti sa continui explorarea prin labirint? (Da/Nu) Da\n",
        "\n",
        "\n",
        "Ai intalnit un monstru: pierzi 16 puncte de viata! Mai ai 65.\n",
        "Ai facut un popas: regenerezi 5 puncte de viata! Mai ai 70.\n",
        "Termini runda 4! Beatrice, doresti sa continui explorarea prin labirint? (Da/Nu) Da\n",
        "Felicitari, ai gasit Armura in labirint!\n",
        "\n",
        "\n",
        "Ai intalnit un monstru: pierzi 20 puncte de viata! Mai ai 50.\n",
        "Ai facut un popas: regenerezi 5 puncte de viata! Mai ai 55.\n",
        "Termini runda 5! Beatrice, doresti sa continui explorarea prin labirint? (Da/Nu) Nu\n",
        "\n",
        "\n",
        "Jocul s-a terminat, Beatrice avea 55 puncte de viata si a rezistat 5 runde.\n",
        "Beatrice a gasit ['Coif', 'Armura'] cat a explorat labirintul.\n",
        "```\n",
        "\n",
        "\n"
      ],
      "metadata": {
        "id": "8dKgmoFvbYfy"
      }
    },
    {
      "cell_type": "code",
      "source": [],
      "metadata": {
        "id": "myvjyTZlbY66"
      },
      "execution_count": null,
      "outputs": []
    }
  ]
}