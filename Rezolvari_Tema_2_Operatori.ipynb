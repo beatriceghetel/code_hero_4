{
  "nbformat": 4,
  "nbformat_minor": 0,
  "metadata": {
    "colab": {
      "provenance": [],
      "authorship_tag": "ABX9TyNaD65gadPADBG2tBep6MeH",
      "include_colab_link": true
    },
    "kernelspec": {
      "name": "python3",
      "display_name": "Python 3"
    },
    "language_info": {
      "name": "python"
    }
  },
  "cells": [
    {
      "cell_type": "markdown",
      "metadata": {
        "id": "view-in-github",
        "colab_type": "text"
      },
      "source": [
        "<a href=\"https://colab.research.google.com/github/beatriceghetel/code_hero_4/blob/main/Rezolvari_Tema_2_Operatori.ipynb\" target=\"_parent\"><img src=\"https://colab.research.google.com/assets/colab-badge.svg\" alt=\"Open In Colab\"/></a>"
      ]
    },
    {
      "cell_type": "markdown",
      "source": [
        "---\n",
        "## Exercitiul 0 - Cateva calcule ➕ ➖ ➗ ✖\n",
        "\n",
        "Primul exercitiu este unul de incalzire, puteti doar sa creati 2 variabile, sa le dati orice valoare doriti (poate fi un numar natural sau nu). Apoi afisati mesaje corespunzatoare pentru a afisa fiecare rezultat pentru efectuarea urmatoarelor operatii aritmetice aplicate pentru cele 2 variabile:\n",
        "* **adunare**\n",
        "* **scadere**\n",
        "* **impartirea a 2 numere** - aici as vrea sa vad ambele variante posibile:\n",
        "  * in care calculati **separat catul si restul** impartirii\n",
        "  * doar **rezultatul impartirii cu zecimale**\n",
        "* **inmultire/multiplicare**\n",
        "\n",
        "Nu uitati ca puteti incerca sa definiti doar 2 variabile si sa faceti calculele direct in print 😎 Nu va amintiti? Puteti cauta in slideurile de la **Laboratorul 2**. La fel puteti proceda si daca nu va amintiti cum sa efectuati anumite calcule, ori puteti vizualiza Notebookul cu exemplele discutate direct."
      ],
      "metadata": {
        "id": "y5DScuGpoaPC"
      }
    },
    {
      "cell_type": "code",
      "source": [
        "var1 = 10\n",
        "var2 = 23\n",
        "\n",
        "print(f'SUMA: {var1} + {var2} = ', var1 + var2)\n",
        "print(f'DIFERENTA: {var1} - {var2} = ', var1 - var2)\n",
        "print(f'CATUL si RESTUL impartirii cu rest: {var1} : {var2} = {var1//var2} rest {var1%var2}')\n",
        "print(f'REZULTATUL IMPARTIRII cu doua zecimale: {var1} : {var2} = ', round(var1/var2, 2))\n",
        "print(f'INMULTIREA: {var1} x {var2} = ', var1 * var2)"
      ],
      "metadata": {
        "id": "f6_M3M9PoZuz",
        "colab": {
          "base_uri": "https://localhost:8080/"
        },
        "outputId": "f04766bb-f49f-4098-ed77-e58133fc4b1e"
      },
      "execution_count": null,
      "outputs": [
        {
          "output_type": "stream",
          "name": "stdout",
          "text": [
            "SUMA: 10 + 23 =  33\n",
            "DIFERENTA: 10 - 23 =  -13\n",
            "CATUL si RESTUL impartirii cu rest: 10 : 23 = 0 rest 10\n",
            "REZULTATUL IMPARTIRII cu doua zecimale: 10 : 23 =  0.43\n",
            "INMULTIREA: 10 x 23 =  230\n"
          ]
        }
      ]
    },
    {
      "cell_type": "markdown",
      "source": [
        "---\n",
        "## Exercitiul 1 - Discount produs 🤑\n",
        "\n",
        "De multe ori, magazinele anunta ca ofera un anumit procent discount din pretul afisat la anumite produse. Insa nu intotdeauna afiseaza si noul pret 😞 unii dintre voi poate calculeaza \"in minte\", mai ales daca e vorba de reduceri usor de calculat precum 10% sau alte procente multiple de 10 (cum ar fi 20, 30, 40 etc.), dar daca vorbim de 19%, 23% ? 🤔 ... de obicei in aceste situatii folosim un calculator \"de buzunar\" (in secolul acesta, el e integrat ca aplicatie pe telefon).\n",
        "\n",
        "Hai sa calculam impreuna in python, diferite procente de reducere pentru produse folosind variabile si afisand un mesaj corespunzator pentru noul pret redus al produsului, pastrand doar prima zecimala.\n",
        "\n",
        "De exemplu, 12% din pretul unor Casti Wireless care costa 279 RON se calculeaza astfel: `12 / 100 * 279` , calcul al carui rezultat este `33.48`. Un exemplu de mesaj afisat ar fi urmatorul: `Pretul dupa aplicarea discountului din promotie este 245.52 RON. Reducerea aplicata a fost de 33.48 RON.`\n",
        "\n"
      ],
      "metadata": {
        "id": "LUOmMx1pbFNJ"
      }
    },
    {
      "cell_type": "code",
      "execution_count": null,
      "metadata": {
        "id": "hvvkbOJ9a6Dt",
        "colab": {
          "base_uri": "https://localhost:8080/"
        },
        "outputId": "987e976a-5bee-4903-debd-5b18786891b2"
      },
      "outputs": [
        {
          "output_type": "stream",
          "name": "stdout",
          "text": [
            "Pretul dupa aplicarea discountului din promotie este 698.205 RON.\n",
            "Reducerea aplicata a fost de 86.295 RON.\n"
          ]
        }
      ],
      "source": [
        "pret_imprimanta_3d = 784.5\n",
        "procent_discount = 11\n",
        "\n",
        "print(f'Pretul dupa aplicarea discountului din promotie este {pret_imprimanta_3d - procent_discount / 100 * pret_imprimanta_3d} RON.')\n",
        "print(f'Reducerea aplicata a fost de {procent_discount / 100 * pret_imprimanta_3d} RON.')"
      ]
    },
    {
      "cell_type": "markdown",
      "source": [
        "---\n",
        "## Exercitiul 2 - Pot conduce o masina? 🚓\n",
        "\n",
        "Am vorbit despre valori de adevar si operatorii logici care compun afirmatii pe care trebuie sa le evaluam ca sa stim daca sunt adevarate sau false. Sa presupunem urmatoarele 2 conditii pentru a putea conduce o masina: sa am varsta implinita de 18 ani si sa detin un permis de conducere.\n",
        "\n",
        "Imaginati-va 1 sau 2 astfel de scenarii (combinatii de valori) si afisati un mesaj corespunzator pentru fiecare.\n",
        "\n",
        "*Daca nu mai stiti cum sa comparati si sa evaluati valoarea de adevar, uitati-va in materialul de la Laboratorul 2 (nu prezentarea PPT ci Notebookul Python, fisierul .ipynb)*"
      ],
      "metadata": {
        "id": "sFpK72xZa-3A"
      }
    },
    {
      "cell_type": "code",
      "source": [
        "varsta_mea = 27\n",
        "detin_permis = True\n",
        "\n",
        "print(f'Pot sa conduc un autoturism?', varsta_mea >= 18 and detin_permis == True)"
      ],
      "metadata": {
        "id": "jy7VgxsMa_HP",
        "colab": {
          "base_uri": "https://localhost:8080/"
        },
        "outputId": "f278ea2d-a952-4a41-80ba-11894dcf16b4"
      },
      "execution_count": null,
      "outputs": [
        {
          "output_type": "stream",
          "name": "stdout",
          "text": [
            "Pot sa conduc un autoturism? True\n"
          ]
        }
      ]
    },
    {
      "cell_type": "markdown",
      "source": [
        "---\n",
        "## Exercitiul 3 - Joc labirint 🐲\n",
        "\n",
        "Simulam mesajele care pot aparea intr-un joc labirint. Sa presupunem ca eroul nostru are un nume (il puteti denumi voi dupa caracterul vostru preferat dintr-un joc, film, carte, orice) si 10 puncte de viata la inceputul jocului. Creati si afisati mesajele pentru urmatoarele scenarii, folosind evident variabile si actualizandu-le corespunzator:\n",
        "\n",
        "\n",
        "* **Ai intalnit un monstru cu care te lupti si pierzi 10 puncte de viata. Acum mai ai ... puncte de viata!**\n",
        "* **Ai facut un popas si ai mancat din desaga ta cu merinde, recapeti 5 puncte de viata. Acum mai ai ... puncte de viata!**\n",
        "\n",
        "Printati macar 3-4 astfel de mesaje. Inainte sa va apucati de scris, ganditi-va cum ati putea optimiza cat mai bine declaratiile de variabile, tipurile de date de care aveti nevoie, operatorii pentru modificarile necesare si cum ii puteti scrie in forma scurta (nu uitati ca puteti face si operatiunea aritmetica, si cea de atribuire a noii valori obtinute in acelasi pas)\n",
        "\n"
      ],
      "metadata": {
        "id": "8dKgmoFvbYfy"
      }
    },
    {
      "cell_type": "code",
      "source": [
        "BlackThorne_HP = 100\n",
        "\n",
        "BlackThorne_HP -= 10\n",
        "print(f'Ai intalnit un monstru cu care te lupti si pierzi 10 puncte de viata. Acum mai ai {BlackThorne_HP} puncte de viata!')\n",
        "BlackThorne_HP -= 10\n",
        "print(f'Ai intalnit un monstru cu care te lupti si pierzi 10 puncte de viata. Acum mai ai {BlackThorne_HP} puncte de viata!')\n",
        "BlackThorne_HP += 5\n",
        "print(f'Ai facut un popas si ai mancat din desaga ta cu merinde, recapeti 5 puncte de viata. Acum mai ai {BlackThorne_HP} puncte de viata!')\n",
        "\n",
        "# NOTA personala :) BlackThorne, e un joc foarte vechi pe care il jucam cand eram mica, pe un calculator cu Windows94\n",
        "# Creatorii jocului sunt Blizzard Entertainment, aceeasi care au creat jocul Hearthstone"
      ],
      "metadata": {
        "id": "myvjyTZlbY66",
        "colab": {
          "base_uri": "https://localhost:8080/"
        },
        "outputId": "2334ad4e-0ae4-4f8c-bf43-3ee888691089"
      },
      "execution_count": null,
      "outputs": [
        {
          "output_type": "stream",
          "name": "stdout",
          "text": [
            "Ai intalnit un monstru cu care te lupti si pierzi 10 puncte de viata. Acum mai ai 90 puncte de viata!\n",
            "Ai intalnit un monstru cu care te lupti si pierzi 10 puncte de viata. Acum mai ai 80 puncte de viata!\n",
            "Ai facut un popas si ai mancat din desaga ta cu merinde, recapeti 5 puncte de viata. Acum mai ai 85 puncte de viata!\n"
          ]
        }
      ]
    },
    {
      "cell_type": "markdown",
      "source": [
        "---\n",
        "## Exercitiul 4 - Vanatorii de comori 🏺\n",
        "\n",
        "Doua personaje, Frode (care inseamna intelept si istet) si Gorm (care inseamna \"cel care il venereaza pe Dumnezeu\") sunt exploratori arheologi si pornesc in cautare de artefacte (un artefact este un obiect cu valoare istorica, vechi, care a apartinut unei persoane care a trait acum mult timp sau face parte dintr-o civilizatie straveche).\n",
        "\n",
        "**Frode** este specializat pe a cauta **obiecte de tip militar** si poate gasi: piese de armura precum: vesta de zale, catarama, manusi, coif, viziera etc.\n",
        "\n",
        "**Gorm** este specializat pe **obiecte de cult si religioase** si poate gasi carti de rugaciune, cruciulite, statuete cu zei etc.\n",
        "\n",
        "La finalul zilei, **cei doi trebuie sa puna toate obiectele gasite la un loc**, si sa le prezinte unui coordonator. **Coordonatorul este interesat in mod special sa verifice daca printre obiectele gasite se regasesc 2 obiecte speciale**.\n",
        "\n",
        "Alegeti voi cele 2 obiecte de interes dar si listele de obiecte gasite de Frode si Gorm, astfel incat 1 sa fie regasit printre cele gasite de catre cei doi arheologi, iar unul sa nu fie gasit si afisati mesaje corespunzatoare."
      ],
      "metadata": {
        "id": "g5E8qneMnGwW"
      }
    },
    {
      "cell_type": "code",
      "source": [
        "obiectele_lui_Frode = ['catarama', 'manusi', 'coif roman']\n",
        "obiectele_lui_Gorm = ['statueta cu Zalmoxis', 'candela', 'carte de rugaciuni']\n",
        "\n",
        "obiecte_de_interes = ('statueta cu Zalmoxis', 'gladius')\n",
        "toate_obiectele_gasite = obiectele_lui_Frode + obiectele_lui_Gorm\n",
        "\n",
        "print(\"Toate obiectele gasite de arheologi sunt:\", toate_obiectele_gasite)\n",
        "print(\"Au gasi arheologii nostri toate obiectele de interes?\", obiecte_de_interes[0] in toate_obiectele_gasite and obiecte_de_interes[1] in toate_obiectele_gasite)"
      ],
      "metadata": {
        "id": "20fjzuCwnHgu",
        "colab": {
          "base_uri": "https://localhost:8080/"
        },
        "outputId": "5ee005fc-ebf8-428a-9d79-4a7ef33a5803"
      },
      "execution_count": null,
      "outputs": [
        {
          "output_type": "stream",
          "name": "stdout",
          "text": [
            "Toate obiectele gasite de arheologi sunt: ['catarama', 'manusi', 'coif roman', 'statueta cu Zalmoxis', 'candela', 'carte de rugaciuni']\n",
            "Au gasi arheologii nostri toate obiectele de interes? False\n"
          ]
        }
      ]
    }
  ]
}