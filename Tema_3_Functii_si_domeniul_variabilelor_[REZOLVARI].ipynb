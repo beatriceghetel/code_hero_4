{
  "nbformat": 4,
  "nbformat_minor": 0,
  "metadata": {
    "colab": {
      "provenance": [],
      "authorship_tag": "ABX9TyMN0M3p/Qz9CnXEYwBlah/1",
      "include_colab_link": true
    },
    "kernelspec": {
      "name": "python3",
      "display_name": "Python 3"
    },
    "language_info": {
      "name": "python"
    }
  },
  "cells": [
    {
      "cell_type": "markdown",
      "metadata": {
        "id": "view-in-github",
        "colab_type": "text"
      },
      "source": [
        "<a href=\"https://colab.research.google.com/github/beatriceghetel/code_hero_4/blob/main/Tema_3_Functii_si_domeniul_variabilelor_%5BREZOLVARI%5D.ipynb\" target=\"_parent\"><img src=\"https://colab.research.google.com/assets/colab-badge.svg\" alt=\"Open In Colab\"/></a>"
      ]
    },
    {
      "cell_type": "markdown",
      "source": [
        "## Functii usoare ➕ ➖ ➗ ✖\n",
        "\n",
        "Sa simulam cateva functii, adunare, scadere etc.\n",
        "\n",
        "Folosind acestea, vom simula impreuna actiunile pe care o aplicatie de tip Calculator le face in spate atunci cand noi scriem operatiuni matematice."
      ],
      "metadata": {
        "id": "cD_i-61MEPLX"
      }
    },
    {
      "cell_type": "code",
      "execution_count": null,
      "metadata": {
        "id": "_qul8fYiEOTh"
      },
      "outputs": [],
      "source": [
        "#def aduna(a, b):\n",
        "def aduna(a:float, b:float):\n",
        "  suma = a + b\n",
        "  print(f\"Suma celor doua numere {a} si {b} este: {suma}\")\n",
        "  return suma\n",
        "\n",
        "# haideti sa definim impreuna si celelalte\n",
        "\n",
        "def scadere(a:float, b:float):\n",
        "  rezultat = a - b\n",
        "  print(f\"Diferenta celor doua numere {a} si {b} este: {rezultat}\")\n",
        "  return rezultat\n",
        "\n",
        "# defineste aici o functie pentru inmultire / multiplicare\n",
        "def inmultire(a:float, b:float):\n",
        "  rezultat = a * b\n",
        "  print(f\"Inmultirea celor doua numere {a} si {b} este: {rezultat}\")\n",
        "  return rezultat\n",
        "\n",
        "\n",
        "# defineste aici o functie pentru impartire / diviziune\n",
        "def impartire(a:float, b:float):\n",
        "  rezultat = a / b\n",
        "  print(f\"Impartirea celor doua numere {a} si {b} este: {rezultat}\")\n",
        "  return rezultat\n",
        "\n"
      ]
    },
    {
      "cell_type": "code",
      "source": [
        "x = aduna(3,5)\n",
        "print(x)\n",
        "aduna(3.4, 2.7)\n",
        "aduna(-1, 7)\n",
        "\n",
        "x = scadere(3,5)\n",
        "print(x)\n",
        "scadere(3.4, 2.7)\n",
        "scadere(-1, 7)\n",
        "\n",
        "# efectueaza cateva apeluri ale functiei de inmultire, similar celor anterioare de adunare si scadere\n",
        "inmultire(3,5)\n",
        "inmultire(3.4, 2.7)\n",
        "inmultire(-1, 7)\n",
        "\n",
        "# efectueaza cateva apeluri ale functiei de impartire, similar celor anterioare de adunare si scadere\n",
        "impartire(3,5)\n",
        "impartire(3.4, 2.7)\n",
        "impartire(-1, 7)"
      ],
      "metadata": {
        "colab": {
          "base_uri": "https://localhost:8080/"
        },
        "id": "g2GJoNhBGxOu",
        "outputId": "7cda915b-35ac-473e-b8d1-b7d0ce60c311"
      },
      "execution_count": null,
      "outputs": [
        {
          "output_type": "stream",
          "name": "stdout",
          "text": [
            "Suma celor doua numere 3 si 5 este: 8\n",
            "8\n",
            "Suma celor doua numere 3.4 si 2.7 este: 6.1\n",
            "Suma celor doua numere -1 si 7 este: 6\n",
            "Diferenta celor doua numere 3 si 5 este: -2\n",
            "-2\n",
            "Diferenta celor doua numere 3.4 si 2.7 este: 0.6999999999999997\n",
            "Diferenta celor doua numere -1 si 7 este: -8\n",
            "Inmultirea celor doua numere 3 si 5 este: 15\n",
            "Inmultirea celor doua numere 3.4 si 2.7 este: 9.18\n",
            "Inmultirea celor doua numere -1 si 7 este: -7\n",
            "Impartirea celor doua numere 3 si 5 este: 0.6\n",
            "Impartirea celor doua numere 3.4 si 2.7 este: 1.259259259259259\n",
            "Impartirea celor doua numere -1 si 7 este: -0.14285714285714285\n"
          ]
        },
        {
          "output_type": "execute_result",
          "data": {
            "text/plain": [
              "-0.14285714285714285"
            ]
          },
          "metadata": {},
          "execution_count": 6
        }
      ]
    },
    {
      "cell_type": "markdown",
      "source": [
        "Sa simulam un calculator acum.\n",
        "\n",
        "Prin conventie, vom scrie operatiile sub forma `numar1 spatiu operator spatiu numar2 (exemplu: numar1 + numar2)`"
      ],
      "metadata": {
        "id": "8AVezLc8HNJe"
      }
    },
    {
      "cell_type": "code",
      "source": [
        "operatiune = input(\"Introdu o operatiune intre 2 numere: \")\n",
        "\n",
        "elemente = operatiune.split(' ')\n",
        "print(elemente)\n",
        "print(float(elemente[0]))\n",
        "\n",
        "\n",
        "if elemente[1] == '+':\n",
        "  aduna(float(elemente[0]), float(elemente[2]))\n",
        "elif elemente[1] == '-':\n",
        "  scadere(float(elemente[0]), float(elemente[2]))\n",
        "## adauga ramura elif pentru '*'\n",
        "elif elemente[1] == '*':\n",
        "  inmultire(float(elemente[0]), float(elemente[2]))\n",
        "## adauga ramura elif pentru '/'\n",
        "elif elemente[1] == '/':\n",
        "  impartire(float(elemente[0]), float(elemente[2]))\n",
        "else:\n",
        "  print(\"Sintaxa incorecta sau operatiune inexistenta.\")"
      ],
      "metadata": {
        "colab": {
          "base_uri": "https://localhost:8080/"
        },
        "id": "XlVVZoxoHKEq",
        "outputId": "e412508b-7a28-488f-d491-46320d01a3dd"
      },
      "execution_count": null,
      "outputs": [
        {
          "output_type": "stream",
          "name": "stdout",
          "text": [
            "Introdu o operatiune intre 2 numere: 4 * 5\n",
            "['4', '*', '5']\n",
            "4.0\n",
            "Inmultirea celor doua numere 4.0 si 5.0 este: 20.0\n"
          ]
        }
      ]
    },
    {
      "cell_type": "markdown",
      "source": [
        "## Simulare aplicatie calculator\n",
        "\n",
        "Am apelat functia noastra o data, dar un calculator te lasa sa faci operatiuni din nou si din nou pana cand \"apesi x\".\n",
        "\n",
        "Ar avea sens sa folosim cunostintele acumulate sa facem asta impreuna."
      ],
      "metadata": {
        "id": "pGyNuSSzKtAc"
      }
    },
    {
      "cell_type": "code",
      "source": [
        "# while = cat timp\n",
        "# intai nu am nici un input de la utilizator\n",
        "operatiune = \"\"\n",
        "# cat timp, utilizatorul nu foloseste operatiunea 'x', vreau sa primesc o operatiune matematica de facut\n",
        "while operatiune != 'x':\n",
        "  # citesc de la utilizator instructiunea\n",
        "  operatiune = input(\"Introdu o operatiune intre 2 numere sau 'x' pentru a iesi din calculator: \")\n",
        "  # vreau sa identific numerele si operatiunea, sparg sirul de caractere dupa ' ' (spatiu)\n",
        "  elemente = operatiune.split(' ')\n",
        "  # inainte sa verific operatorii, are sens intai sa vad daca utilizatorul nu a inchis calculatorul\n",
        "  if operatiune == 'x' or operatiune == 'X':\n",
        "    print(\"Ai ales sa inchizi calculatorul\")\n",
        "  # verific al doilea element (operatorul) pentru a sti ce functie sa apelam\n",
        "  elif elemente[1] == '+':\n",
        "    aduna(float(elemente[0]), float(elemente[2]))\n",
        "  elif elemente[1] == '-':\n",
        "    scadere(float(elemente[0]), float(elemente[2]))\n",
        "  ## adauga ramura elif pentru '*'\n",
        "  elif elemente[1] == '*':\n",
        "    inmultire(float(elemente[0]), float(elemente[2]))\n",
        "  ## adauga ramura elif pentru '/'\n",
        "  elif elemente[1] == '/':\n",
        "    impartire(float(elemente[0]), float(elemente[2]))\n",
        "  else:\n",
        "    print(\"Sintaxa incorecta sau operatiune inexistenta.\")"
      ],
      "metadata": {
        "id": "ZCxCMtfvL6k6",
        "colab": {
          "base_uri": "https://localhost:8080/"
        },
        "outputId": "6bfde04a-67f4-4f05-d38c-6bce8ace43b1"
      },
      "execution_count": null,
      "outputs": [
        {
          "output_type": "stream",
          "name": "stdout",
          "text": [
            "Introdu o operatiune intre 2 numere sau 'x' pentru a iesi din calculator: 2 / 2\n",
            "Impartirea celor doua numere 2.0 si 2.0 este: 1.0\n",
            "Introdu o operatiune intre 2 numere sau 'x' pentru a iesi din calculator: 2 * 3\n",
            "Inmultirea celor doua numere 2.0 si 3.0 este: 6.0\n",
            "Introdu o operatiune intre 2 numere sau 'x' pentru a iesi din calculator: x\n",
            "Ai ales sa inchizi calculatorul\n"
          ]
        }
      ]
    },
    {
      "cell_type": "markdown",
      "source": [
        "## Domeniul variabilelor - variabile locale si globale\n",
        "\n",
        "### Exercitiu simplu cu iteratii ➰\n",
        "\n",
        "Creati o variabila globala x si una locala y intr-o functie pe care o denumiti oricum doriti. In interiorul functiei creati o bucla/repetare in care sa incrementati variabila locala y si sa adunati valoarea lui y la x la fiecare iteratie noua."
      ],
      "metadata": {
        "id": "V7oCTUbimRXn"
      }
    },
    {
      "cell_type": "code",
      "source": [
        "x = 10\n",
        "print(\"Valoarea initiala a lui x este: \", x)\n",
        "\n",
        "def incrementez_x():\n",
        "  y = 20\n",
        "  print(\"Valoarea initiala a lui y este: \", y)\n",
        "  for i in range(1,5):\n",
        "    print(\"Adaug la y local valoarea:\", i)\n",
        "    y += i\n",
        "    print(\"Adaug la x global valoarea noua a lui y:\", y)\n",
        "    global x\n",
        "    x += y\n",
        "    print(\"Noul x global are valoarea:\", x)\n",
        "\n",
        "incrementez_x()"
      ],
      "metadata": {
        "colab": {
          "base_uri": "https://localhost:8080/"
        },
        "id": "MmG6y6jtmR0n",
        "outputId": "7a47b9a8-3c13-4341-9880-f0f7d0d5d4c5"
      },
      "execution_count": null,
      "outputs": [
        {
          "output_type": "stream",
          "name": "stdout",
          "text": [
            "Valoarea initiala a lui x este:  10\n",
            "Valoarea initiala a lui y este:  20\n",
            "Adaug la y local valoarea: 1\n",
            "Adaug la x global valoarea noua a lui y: 21\n",
            "Noul x global are valoarea: 31\n",
            "Adaug la y local valoarea: 2\n",
            "Adaug la x global valoarea noua a lui y: 23\n",
            "Noul x global are valoarea: 54\n",
            "Adaug la y local valoarea: 3\n",
            "Adaug la x global valoarea noua a lui y: 26\n",
            "Noul x global are valoarea: 80\n",
            "Adaug la y local valoarea: 4\n",
            "Adaug la x global valoarea noua a lui y: 30\n",
            "Noul x global are valoarea: 110\n"
          ]
        }
      ]
    },
    {
      "cell_type": "markdown",
      "source": [
        "### Exercitiu cu impartit bomboane 🍬🍬🍬\n",
        "\n",
        "Avem 4 copii, Dan, Ioana, Alexandru si Alina. Dan are 3 bomboane, Ioana are 5 Alexandru are 4, iar Alina are 6 bomboane. Vrem sa impartim in mod egal 23 bomboane (fara rest, daca ramane ceva pastram noi, fiecare sa primeasca acelasi numar de bomboane). Creati o metoda pentru impartirea bomboanelor, care sa foloseasca un dinctionar (cheia = numele copilului si valoarea = numarul de bomboane), care sa parcurga lista de copii si sa le imparta bomboane acestora. Afisati si numarul de bomboane care raman neimpartite.\n",
        "\n",
        "Cum pot modifica metoda definita astfel incat sa impart alta data alt numar de bomboane, cum ar fi, 50, 61, 87?"
      ],
      "metadata": {
        "id": "96qksgRYRhfx"
      }
    },
    {
      "cell_type": "code",
      "source": [
        "bomboane_copii = {\n",
        "    'Dan' : 3,\n",
        "    'Ioana' : 5,\n",
        "    'Alexandru' : 4,\n",
        "    'Alina' : 6\n",
        "}\n",
        "\n",
        "def imparte_bomboane(total_bomboane:int, total_copii:int):\n",
        "  global bomboane_copii\n",
        "  bomboane_de_adaugat = total_bomboane // total_copii\n",
        "  print(f\"Imi raman mie neimpartite {total_bomboane % total_copii} bomboane.\")\n",
        "  for bomboane_copil in bomboane_copii.items():\n",
        "    bomboane_copii[bomboane_copil[0]] += bomboane_de_adaugat\n",
        "\n",
        "print(bomboane_copii)\n",
        "imparte_bomboane(23, 4)\n",
        "print(bomboane_copii)\n",
        "imparte_bomboane(50, 4)\n",
        "print(bomboane_copii, 4)\n",
        "imparte_bomboane(61, 4)\n",
        "print(bomboane_copii, 4)\n",
        "imparte_bomboane(87, 4)\n",
        "print(bomboane_copii, 4)"
      ],
      "metadata": {
        "colab": {
          "base_uri": "https://localhost:8080/"
        },
        "id": "bgyPJGl9Rg9I",
        "outputId": "7e498206-5bca-40cb-bf44-d78d26407b8c"
      },
      "execution_count": null,
      "outputs": [
        {
          "output_type": "stream",
          "name": "stdout",
          "text": [
            "{'Dan': 3, 'Ioana': 5, 'Alexandru': 4, 'Alina': 6}\n",
            "Imi raman mie neimpartite 3 bomboane.\n",
            "{'Dan': 8, 'Ioana': 10, 'Alexandru': 9, 'Alina': 11}\n",
            "Imi raman mie neimpartite 2 bomboane.\n",
            "{'Dan': 20, 'Ioana': 22, 'Alexandru': 21, 'Alina': 23} 4\n",
            "Imi raman mie neimpartite 1 bomboane.\n",
            "{'Dan': 35, 'Ioana': 37, 'Alexandru': 36, 'Alina': 38} 4\n",
            "Imi raman mie neimpartite 3 bomboane.\n",
            "{'Dan': 56, 'Ioana': 58, 'Alexandru': 57, 'Alina': 59} 4\n"
          ]
        }
      ]
    }
  ]
}